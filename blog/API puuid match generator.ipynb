{
 "cells": [
  {
   "cell_type": "code",
   "execution_count": 2,
   "id": "ce31d58b",
   "metadata": {},
   "outputs": [],
   "source": [
    "import requests\n",
    "import json\n",
    "import time"
   ]
  },
  {
   "cell_type": "code",
   "execution_count": 10,
   "id": "8f4a6da6",
   "metadata": {},
   "outputs": [],
   "source": [
    "#api token\n",
    "api = 'RGAPI-e649e529-e113-4374-b3c6-6b2d6a09911c'#input your own api token"
   ]
  },
  {
   "cell_type": "code",
   "execution_count": 1,
   "id": "af57e9b3",
   "metadata": {},
   "outputs": [],
   "source": [
    "#name replacement\n",
    "summoner_name = 'COOKIEMONSTER123'#insert summoner name here"
   ]
  },
  {
   "cell_type": "code",
   "execution_count": 6,
   "id": "1c4bb634",
   "metadata": {},
   "outputs": [],
   "source": [
    "#First request to get PUUID by name\n",
    "data = requests.get(\n",
    "    'https://na1.api.riotgames.com/lol/summoner/v4/summoners/by-name/COOKIEMONSTER123?api_key=RGAPI-e649e529-e113-4374-b3c6-6b2d6a09911c'\n",
    ").json()"
   ]
  },
  {
   "cell_type": "code",
   "execution_count": 7,
   "id": "8a76cf87",
   "metadata": {},
   "outputs": [],
   "source": [
    "#Extract puuid\n",
    "puuid = data['puuid']"
   ]
  },
  {
   "cell_type": "code",
   "execution_count": 8,
   "id": "d8809e61",
   "metadata": {},
   "outputs": [
    {
     "data": {
      "text/plain": [
       "'IWjffr85U6mNAtAKcAdATjnyOxfBgunSDQkgjkZQg_oP4xoK4P4zyyII_3K6FyV8FSyjM0_iTUj_9A'"
      ]
     },
     "execution_count": 8,
     "metadata": {},
     "output_type": "execute_result"
    }
   ],
   "source": [
    "puuid"
   ]
  },
  {
   "cell_type": "code",
   "execution_count": 29,
   "id": "a3a84559",
   "metadata": {},
   "outputs": [],
   "source": [
    "#request to get matches \n",
    "match_finder = '''f\"https://americas.api.riotgames.com/lol/match/v5/matches/by-puuid/\n",
    "{puuid}/ids?start=0&count=100&api_key=RGAPI-e649e529-e113-4374-b3c6-6b2d6a09911c\"'''\n",
    "player_match_100 = requests.get(match_finder).json()"
   ]
  },
  {
   "cell_type": "code",
   "execution_count": 30,
   "id": "8b338c43",
   "metadata": {},
   "outputs": [],
   "source": [
    "#put it into a dictionary\n",
    "dictionary = {}\n",
    "for x in player_match_100:\n",
    "    match_data = '''f\"https://americas.api.riotgames.com/lol/match/v5/\n",
    "    matches/{x}?api_key=RGAPI-e649e529-e113-4374-b3c6-6b2d6a09911c\"'''\n",
    "    match_requester = requests.get(match_data).json()\n",
    "    time.sleep(1.5)\n",
    "    dictionary[x] = match_requester"
   ]
  },
  {
   "cell_type": "code",
   "execution_count": 19,
   "id": "10d60b97",
   "metadata": {},
   "outputs": [],
   "source": [
    "#dump into json file\n",
    "json_object = json.dumps(dictionary, indent=4)\n",
    "with open(\"tyler1.json\", \"w\") as outfile: #replace tyler1 with whatever name you want for your json file\n",
    "    outfile.write(json_object)"
   ]
  },
  {
   "cell_type": "code",
   "execution_count": 21,
   "id": "289c9fb4",
   "metadata": {},
   "outputs": [],
   "source": [
    "with open('mu_apa.json') as f:\n",
    "    data = json.load(f)"
   ]
  }
 ],
 "metadata": {
  "kernelspec": {
   "display_name": "Python (learn-env)",
   "language": "python",
   "name": "learn-env"
  },
  "language_info": {
   "codemirror_mode": {
    "name": "ipython",
    "version": 3
   },
   "file_extension": ".py",
   "mimetype": "text/x-python",
   "name": "python",
   "nbconvert_exporter": "python",
   "pygments_lexer": "ipython3",
   "version": "3.8.5"
  }
 },
 "nbformat": 4,
 "nbformat_minor": 5
}
