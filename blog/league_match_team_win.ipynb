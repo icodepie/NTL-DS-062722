{
 "cells": [
  {
   "cell_type": "code",
   "execution_count": 22,
   "id": "ad3eec96",
   "metadata": {},
   "outputs": [],
   "source": [
    "import json\n",
    "import numpy as np\n",
    "import pandas as pd\n",
    "with open('league_matches.json') as f:\n",
    "    data = json.load(f)\n",
    "with open('league_matches_2.json') as f:\n",
    "    data_2 = json.load()\n",
    "with open('league_matches_3.json') as d:\n",
    "    data_3 = json.load(d)\n",
    "with open('league_matches_4.json') as a:\n",
    "    data_4 = json.load(a)\n",
    "with open('league_matches_5.json') as k:\n",
    "    data_5 = json.load(k)\n",
    "with open('league_matches_6.json') as l:\n",
    "    data_6 = json.load(l)\n",
    "with open('league_matches_7.json') as p:\n",
    "    data_7 = json.load(p)"
   ]
  },
  {
   "cell_type": "code",
   "execution_count": 23,
   "id": "fcecb8be",
   "metadata": {},
   "outputs": [],
   "source": [
    "def data_diver(data):\n",
    "    matches = [(data)[x]['info']['teams'] for x in (data)]\n",
    "    team_1_wins = []\n",
    "    team_1 = [x[0] for x in matches]\n",
    "    for x in team_1:\n",
    "        if x['win'] == True:\n",
    "            team_1_wins.append(x)\n",
    "    return len(team_1_wins)"
   ]
  },
  {
   "cell_type": "code",
   "execution_count": 24,
   "id": "0e0d51b6",
   "metadata": {},
   "outputs": [],
   "source": [
    "master_data = [data,data_2,data_3,data_4,data_5,data_6,data_7]"
   ]
  },
  {
   "cell_type": "code",
   "execution_count": 25,
   "id": "dfee2a92",
   "metadata": {},
   "outputs": [],
   "source": [
    "Team_one_wins = [data_diver(x) for x in master_data]"
   ]
  },
  {
   "cell_type": "code",
   "execution_count": 26,
   "id": "2288db99",
   "metadata": {},
   "outputs": [
    {
     "data": {
      "text/plain": [
       "[55, 54, 55, 54, 53, 54, 54]"
      ]
     },
     "execution_count": 26,
     "metadata": {},
     "output_type": "execute_result"
    }
   ],
   "source": [
    "Team_one_wins"
   ]
  },
  {
   "cell_type": "code",
   "execution_count": 32,
   "id": "47c45f01",
   "metadata": {},
   "outputs": [],
   "source": [
    "df = pd.DataFrame(data=Team_one_wins,index=[1,2,3,4,5,6,7], columns=['Blue_Team_Win'])"
   ]
  },
  {
   "cell_type": "code",
   "execution_count": 33,
   "id": "95503764",
   "metadata": {},
   "outputs": [],
   "source": [
    "df['Red_Team_Win'] = 100 - df['Blue_Team_Win']"
   ]
  },
  {
   "cell_type": "code",
   "execution_count": 34,
   "id": "c1767f46",
   "metadata": {},
   "outputs": [],
   "source": [
    "df['Total_Matches'] = 100"
   ]
  },
  {
   "cell_type": "code",
   "execution_count": 35,
   "id": "719264f2",
   "metadata": {},
   "outputs": [
    {
     "data": {
      "text/html": [
       "<div>\n",
       "<style scoped>\n",
       "    .dataframe tbody tr th:only-of-type {\n",
       "        vertical-align: middle;\n",
       "    }\n",
       "\n",
       "    .dataframe tbody tr th {\n",
       "        vertical-align: top;\n",
       "    }\n",
       "\n",
       "    .dataframe thead th {\n",
       "        text-align: right;\n",
       "    }\n",
       "</style>\n",
       "<table border=\"1\" class=\"dataframe\">\n",
       "  <thead>\n",
       "    <tr style=\"text-align: right;\">\n",
       "      <th></th>\n",
       "      <th>Blue_Team_Win</th>\n",
       "      <th>Red_Team_Win</th>\n",
       "      <th>Total_Matches</th>\n",
       "    </tr>\n",
       "  </thead>\n",
       "  <tbody>\n",
       "    <tr>\n",
       "      <th>1</th>\n",
       "      <td>55</td>\n",
       "      <td>45</td>\n",
       "      <td>100</td>\n",
       "    </tr>\n",
       "    <tr>\n",
       "      <th>2</th>\n",
       "      <td>54</td>\n",
       "      <td>46</td>\n",
       "      <td>100</td>\n",
       "    </tr>\n",
       "    <tr>\n",
       "      <th>3</th>\n",
       "      <td>55</td>\n",
       "      <td>45</td>\n",
       "      <td>100</td>\n",
       "    </tr>\n",
       "    <tr>\n",
       "      <th>4</th>\n",
       "      <td>54</td>\n",
       "      <td>46</td>\n",
       "      <td>100</td>\n",
       "    </tr>\n",
       "    <tr>\n",
       "      <th>5</th>\n",
       "      <td>53</td>\n",
       "      <td>47</td>\n",
       "      <td>100</td>\n",
       "    </tr>\n",
       "    <tr>\n",
       "      <th>6</th>\n",
       "      <td>54</td>\n",
       "      <td>46</td>\n",
       "      <td>100</td>\n",
       "    </tr>\n",
       "    <tr>\n",
       "      <th>7</th>\n",
       "      <td>54</td>\n",
       "      <td>46</td>\n",
       "      <td>100</td>\n",
       "    </tr>\n",
       "  </tbody>\n",
       "</table>\n",
       "</div>"
      ],
      "text/plain": [
       "   Blue_Team_Win  Red_Team_Win  Total_Matches\n",
       "1             55            45            100\n",
       "2             54            46            100\n",
       "3             55            45            100\n",
       "4             54            46            100\n",
       "5             53            47            100\n",
       "6             54            46            100\n",
       "7             54            46            100"
      ]
     },
     "execution_count": 35,
     "metadata": {},
     "output_type": "execute_result"
    }
   ],
   "source": [
    "df"
   ]
  },
  {
   "cell_type": "code",
   "execution_count": 40,
   "id": "585ad997",
   "metadata": {},
   "outputs": [],
   "source": [
    "data_crosstab = pd.crosstab(df['Blue_Team_Win'],\n",
    "                            df['Total_Matches'], \n",
    "                               margins = False)"
   ]
  },
  {
   "cell_type": "code",
   "execution_count": 41,
   "id": "d69524c0",
   "metadata": {},
   "outputs": [
    {
     "data": {
      "text/html": [
       "<div>\n",
       "<style scoped>\n",
       "    .dataframe tbody tr th:only-of-type {\n",
       "        vertical-align: middle;\n",
       "    }\n",
       "\n",
       "    .dataframe tbody tr th {\n",
       "        vertical-align: top;\n",
       "    }\n",
       "\n",
       "    .dataframe thead th {\n",
       "        text-align: right;\n",
       "    }\n",
       "</style>\n",
       "<table border=\"1\" class=\"dataframe\">\n",
       "  <thead>\n",
       "    <tr style=\"text-align: right;\">\n",
       "      <th>Total_Matches</th>\n",
       "      <th>100</th>\n",
       "    </tr>\n",
       "    <tr>\n",
       "      <th>Blue_Team_Win</th>\n",
       "      <th></th>\n",
       "    </tr>\n",
       "  </thead>\n",
       "  <tbody>\n",
       "    <tr>\n",
       "      <th>53</th>\n",
       "      <td>1</td>\n",
       "    </tr>\n",
       "    <tr>\n",
       "      <th>54</th>\n",
       "      <td>4</td>\n",
       "    </tr>\n",
       "    <tr>\n",
       "      <th>55</th>\n",
       "      <td>2</td>\n",
       "    </tr>\n",
       "  </tbody>\n",
       "</table>\n",
       "</div>"
      ],
      "text/plain": [
       "Total_Matches  100\n",
       "Blue_Team_Win     \n",
       "53               1\n",
       "54               4\n",
       "55               2"
      ]
     },
     "execution_count": 41,
     "metadata": {},
     "output_type": "execute_result"
    }
   ],
   "source": []
  },
  {
   "cell_type": "code",
   "execution_count": null,
   "id": "55f85fab",
   "metadata": {},
   "outputs": [],
   "source": [
    "df = pd.read"
   ]
  }
 ],
 "metadata": {
  "kernelspec": {
   "display_name": "Python (learn-env)",
   "language": "python",
   "name": "learn-env"
  },
  "language_info": {
   "codemirror_mode": {
    "name": "ipython",
    "version": 3
   },
   "file_extension": ".py",
   "mimetype": "text/x-python",
   "name": "python",
   "nbconvert_exporter": "python",
   "pygments_lexer": "ipython3",
   "version": "3.8.5"
  }
 },
 "nbformat": 4,
 "nbformat_minor": 5
}
